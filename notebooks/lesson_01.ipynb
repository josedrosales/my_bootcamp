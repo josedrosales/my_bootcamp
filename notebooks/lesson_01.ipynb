{
 "cells": [
  {
   "cell_type": "code",
   "execution_count": 1,
   "metadata": {},
   "outputs": [],
   "source": [
    "#Datatypes\n",
    "contador = 3\n",
    "numero_pi = 3.14159\n",
    "cadena = \"python es lo maximo\"\n",
    "flag = True"
   ]
  },
  {
   "cell_type": "code",
   "execution_count": 6,
   "metadata": {},
   "outputs": [],
   "source": [
    "#Datatypes with typing\n",
    "contador:int = 3\n",
    "numero_pi:float = 3.14159\n",
    "cadena:str = \"python es lo maximo\"\n",
    "flag:bool = True"
   ]
  },
  {
   "cell_type": "code",
   "execution_count": 8,
   "metadata": {},
   "outputs": [
    {
     "name": "stdout",
     "output_type": "stream",
     "text": [
      "True\n",
      "True\n",
      "True\n"
     ]
    }
   ],
   "source": [
    "#Logical Operators\n",
    "print(True and True) \n",
    "print(True or False)\n",
    "print(not False)"
   ]
  },
  {
   "cell_type": "code",
   "execution_count": 17,
   "metadata": {},
   "outputs": [
    {
     "name": "stdout",
     "output_type": "stream",
     "text": [
      "6\n",
      "3.5\n",
      "80\n",
      "8.0\n",
      "1\n",
      "4\n"
     ]
    }
   ],
   "source": [
    "#Aritmetic operators\n",
    "print(3 + 3) #suma\n",
    "print(10.9 - 7.4) #resta\n",
    "print(10 * 8) #multiplicacion\n",
    "print(24 / 3) #Division\n",
    "print(9 % 2) #Residuo\n",
    "print(9 // 2) #Division entera"
   ]
  },
  {
   "cell_type": "code",
   "execution_count": 21,
   "metadata": {},
   "outputs": [],
   "source": [
    "#Collections\n",
    "my_list = [1,2,3,4] #Coleccion ordenada y no mutable\n",
    "my_tuple = (\"fish\",\"chips\") #Coleccion ordenada no mutable\n",
    "my_set = {\"a\",\"b\",\"c\"} #es una coleccion no ordenada con valores unicos mutable solo para sacar y agregar valores\n",
    "my_dict = {\"name\":\"Peter\",\"last_name\":\"Smith\"} #es una coleccion llave:valor, es ordenada y mutable, llaves unicas"
   ]
  },
  {
   "cell_type": "code",
   "execution_count": 34,
   "metadata": {},
   "outputs": [
    {
     "name": "stdout",
     "output_type": "stream",
     "text": [
      "[1, 2, 3, 5]\n",
      "chips\n",
      "{'a', 'b', 'c'}\n",
      "{'y', 'x', 'z'}\n"
     ]
    },
    {
     "data": {
      "text/plain": [
       "'Smith'"
      ]
     },
     "execution_count": 34,
     "metadata": {},
     "output_type": "execute_result"
    }
   ],
   "source": [
    "my_list[3] = 5\n",
    "print(my_list)\n",
    "print(my_tuple[1])\n",
    "print(my_set)\n",
    "\n",
    "my_second_set = {\"x\",\"y\",\"z\",\"x\"}\n",
    "print(my_second_set)\n",
    "\n",
    "my_dict[\"last_name\"]"
   ]
  },
  {
   "cell_type": "code",
   "execution_count": 38,
   "metadata": {},
   "outputs": [
    {
     "name": "stdout",
     "output_type": "stream",
     "text": [
      "10 no es menor\n",
      "el equipo a gano\n"
     ]
    }
   ],
   "source": [
    "#Las tres estructuras de control: Sequence, Selection, Iteration (Teorema de Bohm Jacopini)\n",
    "\n",
    "#Selection\n",
    "\n",
    "if 10 < 4:\n",
    "    print(\"10 es menor\")\n",
    "else:\n",
    "    print(\"10 no es menor\")\n",
    "\n",
    "score_team_a = 3\n",
    "score_team_b = 1\n",
    "\n",
    "if score_team_a < score_team_b:\n",
    "    print(\"el equipo a perdio\")\n",
    "\n",
    "elif score_team_a > score_team_b:\n",
    "    print(\"el equipo a gano\")\n",
    "\n",
    "else: \n",
    "    print(\"fue empate\")"
   ]
  },
  {
   "cell_type": "code",
   "execution_count": 41,
   "metadata": {},
   "outputs": [
    {
     "name": "stdout",
     "output_type": "stream",
     "text": [
      "7\n",
      "10\n",
      "5\n",
      "0\n",
      "4\n",
      "3\n",
      "2\n",
      "1\n"
     ]
    }
   ],
   "source": [
    "my_second_list = [7,10,5,0]\n",
    "\n",
    "for i in my_second_list:\n",
    "    print(i)\n",
    "\n",
    "my_number = 4\n",
    "\n",
    "while my_number > 0:\n",
    "    print(my_number)\n",
    "    my_number -= 1"
   ]
  },
  {
   "cell_type": "code",
   "execution_count": 43,
   "metadata": {},
   "outputs": [
    {
     "name": "stdout",
     "output_type": "stream",
     "text": [
      "[6 7 8 9]\n"
     ]
    }
   ],
   "source": [
    "import numpy as np\n",
    "\n",
    "my_vector = np.array([6,7,8,9])\n",
    "print(my_vector)"
   ]
  },
  {
   "cell_type": "code",
   "execution_count": 46,
   "metadata": {},
   "outputs": [
    {
     "name": "stdout",
     "output_type": "stream",
     "text": [
      "[[6 7]\n",
      " [8 9]]\n",
      "(2, 2)\n"
     ]
    }
   ],
   "source": [
    "my_vector.shape\n",
    "my_matrix =  np.array([[6,7],[8,9]])\n",
    "print(my_matrix)\n",
    "print(my_matrix.shape)"
   ]
  }
 ],
 "metadata": {
  "kernelspec": {
   "display_name": ".venv",
   "language": "python",
   "name": "python3"
  },
  "language_info": {
   "codemirror_mode": {
    "name": "ipython",
    "version": 3
   },
   "file_extension": ".py",
   "mimetype": "text/x-python",
   "name": "python",
   "nbconvert_exporter": "python",
   "pygments_lexer": "ipython3",
   "version": "3.12.1"
  }
 },
 "nbformat": 4,
 "nbformat_minor": 2
}
